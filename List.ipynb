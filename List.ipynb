{
 "cells": [
  {
   "cell_type": "markdown",
   "id": "fa1bb72a-3613-4f90-b8a7-2d7ba541e48f",
   "metadata": {},
   "source": [
    "## List"
   ]
  },
  {
   "cell_type": "code",
   "execution_count": 17,
   "id": "1103b746-0736-42d3-a39a-6396ef333ced",
   "metadata": {},
   "outputs": [
    {
     "name": "stdout",
     "output_type": "stream",
     "text": [
      "1916554800448\n",
      "1916554798912\n",
      "[None, True, False, 123, 123.221, (123456+789j), 'Broadway', array('i', [1, 2, 3])]\n",
      "<class 'list'>\n",
      "[1, 2, 3, 55, 2, 33, 10, 2, 2, 4, 3, 2, 4, 7, 4, 3, 45, 45, 90, 59, 345, 96]\n",
      "1916554796480\n",
      "22\n",
      "345\n",
      "1\n",
      "817\n",
      "232\n"
     ]
    }
   ],
   "source": [
    "from array import array\n",
    "import sys\n",
    "# declare\n",
    "list1 = list()\n",
    "print(id(list1))\n",
    "list1 = list([1,2,3,4,5,6,7,8,9])\n",
    "print(id(list1))\n",
    "list1 = [1,3,2,4,6,7,4,8,9]\n",
    "arr1 = array('i',[1,2,3])\n",
    "list1 = [None,True,False,123,123.221,123456+789J, \"Broadway\", arr1]\n",
    "print(list1)\n",
    "arr1 = array('i',[1,2,3,55,2,33,10,2,2,4,3,2,4,7,4,3,45,45,90,59,345,96])\n",
    "list1 = list(arr1) # Array to list conversion\n",
    "#Explore List\n",
    "print(type(list1))\n",
    "print(list1)\n",
    "print(id(list1)) ## Memory Address - Starting Address\n",
    "print(len(list1)) ## Length of list\n",
    "print(max(list1)) ## Print max value from the list\n",
    "print(min(list1)) ## Prints the min value from the list\n",
    "print(sum(list1)) ## Prints the sum of all the values from the list\n",
    "print(sys.getsizeof(list1)) ## Memory Size, how much memory size being utilized by the list.\n",
    "\n"
   ]
  },
  {
   "cell_type": "code",
   "execution_count": 55,
   "id": "6f235e31-c676-4634-9825-a18721b58e3d",
   "metadata": {},
   "outputs": [
    {
     "name": "stdout",
     "output_type": "stream",
     "text": [
      "[1, 2, 3, 55, 2, 33, 10, 2, 2, 4, 3, 2, 4, 7, 4, 3, 45, 45, 90, 59, 345, 96]\n",
      "22\n",
      "4\n",
      "11\n",
      "[1, 2, 3, 55, 2, 33, 10, 2, 2, 11, 3, 2, 4, 7, 4, 3, 45, 45, 90, 59, 345, 96]\n",
      "[1, 2, 3, 55, 2, 33, 10, 2, 2, 3, 2, 4, 7, 4, 3, 45, 45, 90, 59, 345, 96]\n",
      "96\n",
      "96\n",
      "[1, 2, 3, 55, 2]\n",
      "[1, 2, 3, 55, 2]\n",
      "[1, 3, 2]\n",
      "[1, 55]\n",
      "[1, 2, 3, 55, 2]\n",
      "[1, 2, 3, 55, 2, 33, 10, 2, 2, 3, 2, 4, 7, 4, 3, 45, 45, 90, 59, 345, 96]\n",
      "[1, 2, 3, 55, 2, 33, 10, 2, 2, 3, 2, 4, 7, 4, 3, 45, 45, 90, 59, 345, 96]\n",
      "[96, 345, 59, 90, 45, 45, 3, 4, 7, 4, 2, 3, 2, 2, 10, 33, 2, 55, 3, 2, 1]\n",
      "[96, 345, 59, 90, 45, 45, 3, 4, 7, 4, 2, 3, 2, 2, 10, 33, 2, 55, 3, 2, 1]\n"
     ]
    }
   ],
   "source": [
    "# Indexing and slicing\n",
    "\n",
    "# Indexing -- Single value extraction\n",
    "\n",
    "from array import array\n",
    "arr1 = array('i',[1,2,3,55,2,33,10,2,2,4,3,2,4,7,4,3,45,45,90,59,345,96])\n",
    "list1 = list(arr1) # Array to list conversion\n",
    "print(list1)\n",
    "print(len(list1))\n",
    "print(list1[9]) ## 9 is the index value\n",
    "list1[9] = 11  ## update the value \n",
    "print(list1[9])\n",
    "print(list1)\n",
    "del list1[9]\n",
    "print(list1)\n",
    "print(list1[20]) ## Positive Indexing\n",
    "print(list1[-1]) ## Negative Indexing\n",
    "\n",
    "#print(list1[30]) ## IndexError: list index out of range\n",
    "#print(list1[-30]) ## IndexError: list index out of range\n",
    "\n",
    "#Slicing -- Multiple value extraction\n",
    "list2 = list1[0:5] #0 to less than 5\n",
    "print(list2) #Value from Index 0 to 5\n",
    "\n",
    "list3 = list1[0:5:1] #[Start:Stop:Step]\n",
    "print(list3)\n",
    "\n",
    "\n",
    "list4 = list1[0:5:2] #[Start:Stop:Step]\n",
    "print(list4)\n",
    "\n",
    "list5 = list1[0:5:3] #[Start:Stop:Step]\n",
    "print(list5)\n",
    "\n",
    "list6 = list1[:5] # 0 to less than 5\n",
    "print(list6)\n",
    "\n",
    "list7 = list1[:] # All data from the list\n",
    "print(list7)\n",
    "\n",
    "list8 = list1[::] ## All data from the list\n",
    "print(list8)\n",
    "\n",
    "list9 = list1[::-1] ## Negative indexing, prints from the opposite i.e. reverse\n",
    "print(list9)\n",
    "\n",
    "list10 = list9[::] #All data from the list\n",
    "print(list10) #All data from the list"
   ]
  },
  {
   "cell_type": "markdown",
   "id": "550ea5e8-24ec-4e1d-9472-b742a9fb8f08",
   "metadata": {},
   "source": [
    "# Exploring list class"
   ]
  },
  {
   "cell_type": "code",
   "execution_count": null,
   "id": "8f9286a6-51e6-4984-bd1a-98e6dd858faf",
   "metadata": {},
   "outputs": [],
   "source": []
  }
 ],
 "metadata": {
  "kernelspec": {
   "display_name": "Python 3 (ipykernel)",
   "language": "python",
   "name": "python3"
  },
  "language_info": {
   "codemirror_mode": {
    "name": "ipython",
    "version": 3
   },
   "file_extension": ".py",
   "mimetype": "text/x-python",
   "name": "python",
   "nbconvert_exporter": "python",
   "pygments_lexer": "ipython3",
   "version": "3.10.4"
  }
 },
 "nbformat": 4,
 "nbformat_minor": 5
}
